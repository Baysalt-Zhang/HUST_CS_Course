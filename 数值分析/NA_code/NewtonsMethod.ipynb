{
 "cells": [
  {
   "cell_type": "code",
   "execution_count": 1,
   "id": "4a5c7160",
   "metadata": {},
   "outputs": [],
   "source": [
    "import sympy as sp\n",
    " \n",
    "class Equation:\n",
    "    def __init__(self, fx):\n",
    "        \"\"\" 初始化方程的性质 \"\"\"\n",
    "        self.precision = 1e-6  # 初始化计算精度\n",
    "        self.precision_diff = 1e-3  # 初始化导数最小值，以判断是否接近0\n",
    "        self.x = sp.symbols('x')\n",
    "        self.fx = fx  # 接收传入的方程的函数表达式\n",
    "        self.diff_fx = sp.diff(self.fx, self.x)  # 生成方程的导数表达式\n"
   ]
  },
  {
   "cell_type": "code",
   "execution_count": 2,
   "id": "c81cb4fb",
   "metadata": {},
   "outputs": [],
   "source": [
    "# x0=1.9\n",
    "# def f(x):\n",
    "#     y = x*x*x - 3*x -1\n",
    "#     return y\n",
    "\n",
    "# def g(x):\n",
    "#     y = 3*x*x - 3\n",
    "#     return y\n",
    "\n",
    "\n",
    "def get_value_fx(fx, x, precision_value):\n",
    "    \"\"\" 计算函数值 \"\"\"\n",
    "    return fx.evalf(subs={'x': x}, n=precision_value)  # n指定保留的有效数字\n",
    "\n",
    "\n",
    "def get_value_fx_diff(diff_fx, x, precision_value):\n",
    "    \"\"\" 计算导数值 \"\"\"\n",
    "    return diff_fx.evalf(subs={'x': x}, n=precision_value)  # n指定保留的有效数字\n",
    "\n",
    "def get_new_x(fx,\n",
    "              diff_fx,\n",
    "              x,\n",
    "              precision_value,\n",
    "              descent_factor\n",
    "              ):\n",
    "    \"\"\" 迭代一次，计算新一个X的值，即X(k+1) \"\"\"\n",
    "    value_fx = get_value_fx(fx, x, precision_value)  # 获取函数值\n",
    "    value_fx_diff = get_value_fx_diff(diff_fx, x, precision_value)  # 获取导数值\n",
    "    return x - descent_factor * (value_fx / value_fx_diff)  # 带入牛顿迭代的表达式，并返回计算出的X(k+1)\n",
    " \n",
    "def fx_diff_close_to_0(value_fx_diff, precision_diff):\n",
    "    \"\"\" 判断导数值是否接近0 \"\"\"\n",
    "    if abs(value_fx_diff) < precision_diff:\n",
    "        return True\n",
    "    else:\n",
    "        return False\n",
    "\n",
    "def precision_requirement_meet(precision, list_x):\n",
    "    \"\"\" 判断X的精度是否满足要求 \"\"\"\n",
    "    if len(list_x) == 1:\n",
    "        return False\n",
    "    difference = abs(list_x[-1] - list_x[-2])\n",
    "    if difference < precision:\n",
    "        return True\n",
    "    else:\n",
    "        return False\n",
    "\n",
    "def method_iterative_newton(fx,\n",
    "                            diff_fx,\n",
    "                            list_x,\n",
    "                            precision,\n",
    "                            precision_diff,\n",
    "                            precision_value=5,  # 结果有效数字默认保留5位\n",
    "                            descent_factor=1  # 下山因子默认为1\n",
    "                            ):\n",
    "    \"\"\" 主循环进行计算 \"\"\"\n",
    "    while not precision_requirement_meet(precision, list_x):  # 当未满足精度时，进行一次迭代\n",
    "        value_fx_diff = get_value_fx_diff(diff_fx, list_x[-1], precision_value)  # 为随后的判断，需单独计算一次导数值\n",
    "        if fx_diff_close_to_0(value_fx_diff, precision_diff):  # 如果导数接近0.则终止计算\n",
    "            print('导数接近0，结束计算，最终结果可能不满足精度要求\\n')\n",
    "            return\n",
    "        list_x.append(get_new_x(fx=fx,\n",
    "                                diff_fx=diff_fx,\n",
    "                                precision_value=precision_value,\n",
    "                                x=list_x[-1],\n",
    "                                descent_factor=descent_factor))  # 将结果追加到x列表中进行保存\n",
    "\n",
    "\n"
   ]
  },
  {
   "cell_type": "code",
   "execution_count": 7,
   "id": "d7e23de6",
   "metadata": {},
   "outputs": [
    {
     "name": "stdout",
     "output_type": "stream",
     "text": [
      "方程： x**3 - 3*x - 1\n",
      "迭代结果： [1.9, 1.87969341278076, 1.87938531264663, 1.87938524157144]\n"
     ]
    }
   ],
   "source": [
    "import sympy as sp\n",
    "import math\n",
    " \n",
    "# 设置迭代初始值\n",
    "init_x = 1.9\n",
    "# 设置方程表达式\n",
    "x = sp.symbols('x')\n",
    "func = x*x*x - 3*x -1\n",
    "# 获取方程对象\n",
    "equation = Equation(func)\n",
    "# 创建x值的队列\n",
    "list_x = [init_x]\n",
    "# 调用牛顿迭代法\n",
    "method_iterative_newton(fx=equation.fx,\n",
    "                                 diff_fx=equation.diff_fx,\n",
    "                                 list_x=list_x,\n",
    "                                 precision=equation.precision,\n",
    "                                 precision_diff=equation.precision_diff,\n",
    "                                 precision_value=4)  # 计算结果的有效数字设为10位\n",
    "print(\"方程：\", func)\n",
    "print(\"迭代结果：\", list_x)  # 简单打印计算结果\n",
    "\n"
   ]
  },
  {
   "cell_type": "code",
   "execution_count": null,
   "id": "06708031",
   "metadata": {},
   "outputs": [],
   "source": []
  }
 ],
 "metadata": {
  "kernelspec": {
   "display_name": "Python 3",
   "language": "python",
   "name": "python3"
  },
  "language_info": {
   "codemirror_mode": {
    "name": "ipython",
    "version": 3
   },
   "file_extension": ".py",
   "mimetype": "text/x-python",
   "name": "python",
   "nbconvert_exporter": "python",
   "pygments_lexer": "ipython3",
   "version": "3.8.8"
  }
 },
 "nbformat": 4,
 "nbformat_minor": 5
}
